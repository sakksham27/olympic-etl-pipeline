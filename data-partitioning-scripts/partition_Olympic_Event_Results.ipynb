{
 "cells": [
  {
   "cell_type": "code",
   "execution_count": 2,
   "metadata": {},
   "outputs": [],
   "source": [
    "import pandas as pd \n",
    "import numpy as np\n",
    "from pathlib import Path\n",
    "import os"
   ]
  },
  {
   "cell_type": "code",
   "execution_count": 3,
   "metadata": {},
   "outputs": [],
   "source": [
    "base_dir = Path(os.getcwd())\n",
    "file_path = base_dir.parent / \"Data\" / \"raw\" / \"Olympic_Event_Results.csv\"\n",
    "df = pd.read_csv(file_path)"
   ]
  },
  {
   "cell_type": "code",
   "execution_count": 4,
   "metadata": {},
   "outputs": [
    {
     "data": {
      "text/html": [
       "<div>\n",
       "<style scoped>\n",
       "    .dataframe tbody tr th:only-of-type {\n",
       "        vertical-align: middle;\n",
       "    }\n",
       "\n",
       "    .dataframe tbody tr th {\n",
       "        vertical-align: top;\n",
       "    }\n",
       "\n",
       "    .dataframe thead th {\n",
       "        text-align: right;\n",
       "    }\n",
       "</style>\n",
       "<table border=\"1\" class=\"dataframe\">\n",
       "  <thead>\n",
       "    <tr style=\"text-align: right;\">\n",
       "      <th></th>\n",
       "      <th>result_id</th>\n",
       "      <th>event_title</th>\n",
       "      <th>edition</th>\n",
       "      <th>edition_id</th>\n",
       "      <th>sport</th>\n",
       "      <th>sport_url</th>\n",
       "      <th>result_date</th>\n",
       "      <th>result_location</th>\n",
       "      <th>result_participants</th>\n",
       "      <th>result_format</th>\n",
       "      <th>result_detail</th>\n",
       "      <th>result_description</th>\n",
       "    </tr>\n",
       "  </thead>\n",
       "  <tbody>\n",
       "    <tr>\n",
       "      <th>0</th>\n",
       "      <td>30359</td>\n",
       "      <td>Super-Heavyweight (&gt;105 kilograms), Men</td>\n",
       "      <td>2004 Summer Olympics</td>\n",
       "      <td>26</td>\n",
       "      <td>Weightlifting</td>\n",
       "      <td>/editions/26/sports/WLF</td>\n",
       "      <td>25 August 2004 — 16:30 (B), 20:00 (A)</td>\n",
       "      <td>Olympiako Gymnastirio Arsis Varon Nikaias, Nikaia</td>\n",
       "      <td>17 from 15 countries</td>\n",
       "      <td>Total of best lifts in snatch and clean &amp; jerk...</td>\n",
       "      <td>na</td>\n",
       "      <td>Not so much a competition as a coronation, the...</td>\n",
       "    </tr>\n",
       "    <tr>\n",
       "      <th>1</th>\n",
       "      <td>1626</td>\n",
       "      <td>Giant Slalom, Women1</td>\n",
       "      <td>1998 Winter Olympics</td>\n",
       "      <td>46</td>\n",
       "      <td>Snowboarding</td>\n",
       "      <td>/editions/46/sports/SBD</td>\n",
       "      <td>9 February 1998</td>\n",
       "      <td>Mt. Yakebitai, Shiga Kogen, Yamanouchi</td>\n",
       "      <td>31 from 14 countries</td>\n",
       "      <td>Two runs, total time determined placement.</td>\n",
       "      <td>Gates: 38 / 36Length: 936 mStart Altitude: 196...</td>\n",
       "      <td>The women’s giant slalom was postponed one day...</td>\n",
       "    </tr>\n",
       "    <tr>\n",
       "      <th>2</th>\n",
       "      <td>76</td>\n",
       "      <td>Singles, Men</td>\n",
       "      <td>1976 Winter Olympics</td>\n",
       "      <td>40</td>\n",
       "      <td>Luge</td>\n",
       "      <td>/editions/40/sports/LUG</td>\n",
       "      <td>4 –  7 February 1976</td>\n",
       "      <td>Kunsteis-Bob- und Rodelbahn, Igls</td>\n",
       "      <td>43 from 15 countries</td>\n",
       "      <td>Four runs, total time determined placement.</td>\n",
       "      <td>Curves: 14Length: 1220 mStart Altitude: ?Verti...</td>\n",
       "      <td>Once more, the competitors from East and West ...</td>\n",
       "    </tr>\n",
       "  </tbody>\n",
       "</table>\n",
       "</div>"
      ],
      "text/plain": [
       "   result_id                              event_title               edition  \\\n",
       "0      30359  Super-Heavyweight (>105 kilograms), Men  2004 Summer Olympics   \n",
       "1       1626                     Giant Slalom, Women1  1998 Winter Olympics   \n",
       "2         76                             Singles, Men  1976 Winter Olympics   \n",
       "\n",
       "   edition_id          sport                sport_url  \\\n",
       "0          26  Weightlifting  /editions/26/sports/WLF   \n",
       "1          46   Snowboarding  /editions/46/sports/SBD   \n",
       "2          40           Luge  /editions/40/sports/LUG   \n",
       "\n",
       "                             result_date  \\\n",
       "0  25 August 2004 — 16:30 (B), 20:00 (A)   \n",
       "1                        9 February 1998   \n",
       "2                   4 –  7 February 1976   \n",
       "\n",
       "                                     result_location   result_participants  \\\n",
       "0  Olympiako Gymnastirio Arsis Varon Nikaias, Nikaia  17 from 15 countries   \n",
       "1             Mt. Yakebitai, Shiga Kogen, Yamanouchi  31 from 14 countries   \n",
       "2                  Kunsteis-Bob- und Rodelbahn, Igls  43 from 15 countries   \n",
       "\n",
       "                                       result_format  \\\n",
       "0  Total of best lifts in snatch and clean & jerk...   \n",
       "1         Two runs, total time determined placement.   \n",
       "2        Four runs, total time determined placement.   \n",
       "\n",
       "                                       result_detail  \\\n",
       "0                                                 na   \n",
       "1  Gates: 38 / 36Length: 936 mStart Altitude: 196...   \n",
       "2  Curves: 14Length: 1220 mStart Altitude: ?Verti...   \n",
       "\n",
       "                                  result_description  \n",
       "0  Not so much a competition as a coronation, the...  \n",
       "1  The women’s giant slalom was postponed one day...  \n",
       "2  Once more, the competitors from East and West ...  "
      ]
     },
     "execution_count": 4,
     "metadata": {},
     "output_type": "execute_result"
    }
   ],
   "source": [
    "df.head(3)"
   ]
  },
  {
   "cell_type": "code",
   "execution_count": 5,
   "metadata": {},
   "outputs": [
    {
     "data": {
      "text/plain": [
       "(7394, 12)"
      ]
     },
     "execution_count": 5,
     "metadata": {},
     "output_type": "execute_result"
    }
   ],
   "source": [
    "df.shape"
   ]
  },
  {
   "cell_type": "code",
   "execution_count": 6,
   "metadata": {},
   "outputs": [
    {
     "name": "stderr",
     "output_type": "stream",
     "text": [
      "/Users/sakshamsharma/.pyenv/versions/3.10.13/lib/python3.10/site-packages/numpy/_core/fromnumeric.py:57: FutureWarning: 'DataFrame.swapaxes' is deprecated and will be removed in a future version. Please use 'DataFrame.transpose' instead.\n",
      "  return bound(*args, **kwds)\n"
     ]
    }
   ],
   "source": [
    "list_of_df = np.array_split(df, 20)"
   ]
  },
  {
   "cell_type": "code",
   "execution_count": 8,
   "metadata": {},
   "outputs": [
    {
     "name": "stdout",
     "output_type": "stream",
     "text": [
      "7394\n"
     ]
    }
   ],
   "source": [
    "count = 0\n",
    "for i in list_of_df:\n",
    "    count = count + len(i)\n",
    "print(count)"
   ]
  },
  {
   "cell_type": "code",
   "execution_count": 15,
   "metadata": {},
   "outputs": [
    {
     "data": {
      "text/plain": [
       "20"
      ]
     },
     "execution_count": 15,
     "metadata": {},
     "output_type": "execute_result"
    }
   ],
   "source": [
    "len(list_of_df)"
   ]
  },
  {
   "cell_type": "code",
   "execution_count": 9,
   "metadata": {},
   "outputs": [
    {
     "data": {
      "text/plain": [
       "'counter = 0\\ncurr_dir = Path(os.getcwd())\\ntarget_dir = curr_dir.parent / \"Data\" / \"staged\" / \"Olympic_Event_Results_Files\"\\nfor i in range(len(list_of_df)):\\n    path = str(target_dir) + \\'/Olympic_Event_Results\\' + str(counter) + \\'.csv\\'\\n    list_of_df[i].to_csv(path, index = False)\\n    counter = counter + 1'"
      ]
     },
     "execution_count": 9,
     "metadata": {},
     "output_type": "execute_result"
    }
   ],
   "source": [
    "counter = 0\n",
    "curr_dir = Path(os.getcwd())\n",
    "target_dir = curr_dir.parent / \"Data\" / \"staged\" / \"Olympic_Event_Results_Files\"\n",
    "for i in range(len(list_of_df)):\n",
    "    path = str(target_dir) + '/Olympic_Event_Results' + str(counter) + '.csv'\n",
    "    list_of_df[i].to_csv(path, index = False)\n",
    "    counter = counter + 1"
   ]
  },
  {
   "cell_type": "code",
   "execution_count": null,
   "metadata": {},
   "outputs": [],
   "source": []
  }
 ],
 "metadata": {
  "kernelspec": {
   "display_name": "3.10.13",
   "language": "python",
   "name": "python3"
  },
  "language_info": {
   "codemirror_mode": {
    "name": "ipython",
    "version": 3
   },
   "file_extension": ".py",
   "mimetype": "text/x-python",
   "name": "python",
   "nbconvert_exporter": "python",
   "pygments_lexer": "ipython3",
   "version": "3.10.13"
  }
 },
 "nbformat": 4,
 "nbformat_minor": 2
}
