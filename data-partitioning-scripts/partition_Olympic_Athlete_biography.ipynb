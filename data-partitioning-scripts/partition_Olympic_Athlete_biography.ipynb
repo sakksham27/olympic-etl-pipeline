{
 "cells": [
  {
   "cell_type": "code",
   "execution_count": 1,
   "metadata": {},
   "outputs": [],
   "source": [
    "import pandas as pd\n",
    "import numpy as np\n",
    "import os\n",
    "from pathlib import Path"
   ]
  },
  {
   "cell_type": "code",
   "execution_count": 2,
   "metadata": {},
   "outputs": [],
   "source": [
    "base_dir = Path(os.getcwd())\n",
    "file_path = base_dir.parent / \"Data\" / \"raw\" / \"Olympic_Athlete_Biography.csv\"\n",
    "df = pd.read_csv(file_path)"
   ]
  },
  {
   "cell_type": "code",
   "execution_count": 3,
   "metadata": {},
   "outputs": [
    {
     "data": {
      "text/html": [
       "<div>\n",
       "<style scoped>\n",
       "    .dataframe tbody tr th:only-of-type {\n",
       "        vertical-align: middle;\n",
       "    }\n",
       "\n",
       "    .dataframe tbody tr th {\n",
       "        vertical-align: top;\n",
       "    }\n",
       "\n",
       "    .dataframe thead th {\n",
       "        text-align: right;\n",
       "    }\n",
       "</style>\n",
       "<table border=\"1\" class=\"dataframe\">\n",
       "  <thead>\n",
       "    <tr style=\"text-align: right;\">\n",
       "      <th></th>\n",
       "      <th>athlete_id</th>\n",
       "      <th>name</th>\n",
       "      <th>sex</th>\n",
       "      <th>born</th>\n",
       "      <th>height</th>\n",
       "      <th>weight</th>\n",
       "      <th>country</th>\n",
       "      <th>country_noc</th>\n",
       "      <th>description</th>\n",
       "      <th>special_notes</th>\n",
       "    </tr>\n",
       "  </thead>\n",
       "  <tbody>\n",
       "    <tr>\n",
       "      <th>0</th>\n",
       "      <td>65649</td>\n",
       "      <td>Ivanka Bonova</td>\n",
       "      <td>Female</td>\n",
       "      <td>4 April 1949</td>\n",
       "      <td>166.0</td>\n",
       "      <td>55</td>\n",
       "      <td>Bulgaria</td>\n",
       "      <td>BUL</td>\n",
       "      <td>Personal Best: 400 – 53.54 (1980).</td>\n",
       "      <td>NaN</td>\n",
       "    </tr>\n",
       "    <tr>\n",
       "      <th>1</th>\n",
       "      <td>112510</td>\n",
       "      <td>Nataliya Uryadova</td>\n",
       "      <td>Female</td>\n",
       "      <td>15 March 1977</td>\n",
       "      <td>184.0</td>\n",
       "      <td>70</td>\n",
       "      <td>Russian Federation</td>\n",
       "      <td>RUS</td>\n",
       "      <td>NaN</td>\n",
       "      <td>Listed in Olympians Who Won a Medal at the Eur...</td>\n",
       "    </tr>\n",
       "    <tr>\n",
       "      <th>2</th>\n",
       "      <td>114973</td>\n",
       "      <td>Essa Ismail Rashed</td>\n",
       "      <td>Male</td>\n",
       "      <td>14 December 1986</td>\n",
       "      <td>165.0</td>\n",
       "      <td>55</td>\n",
       "      <td>Qatar</td>\n",
       "      <td>QAT</td>\n",
       "      <td>Personal Best: 10000 – 27:20.97 (2006).</td>\n",
       "      <td>Listed in Olympians Who Won a Medal at the Asi...</td>\n",
       "    </tr>\n",
       "  </tbody>\n",
       "</table>\n",
       "</div>"
      ],
      "text/plain": [
       "   athlete_id                name     sex              born  height weight  \\\n",
       "0       65649       Ivanka Bonova  Female      4 April 1949   166.0     55   \n",
       "1      112510   Nataliya Uryadova  Female     15 March 1977   184.0     70   \n",
       "2      114973  Essa Ismail Rashed    Male  14 December 1986   165.0     55   \n",
       "\n",
       "               country country_noc                              description  \\\n",
       "0             Bulgaria         BUL       Personal Best: 400 – 53.54 (1980).   \n",
       "1   Russian Federation         RUS                                      NaN   \n",
       "2                Qatar         QAT  Personal Best: 10000 – 27:20.97 (2006).   \n",
       "\n",
       "                                       special_notes  \n",
       "0                                                NaN  \n",
       "1  Listed in Olympians Who Won a Medal at the Eur...  \n",
       "2  Listed in Olympians Who Won a Medal at the Asi...  "
      ]
     },
     "execution_count": 3,
     "metadata": {},
     "output_type": "execute_result"
    }
   ],
   "source": [
    "df.head(3)"
   ]
  },
  {
   "cell_type": "code",
   "execution_count": 4,
   "metadata": {},
   "outputs": [
    {
     "data": {
      "text/plain": [
       "(155861, 10)"
      ]
     },
     "execution_count": 4,
     "metadata": {},
     "output_type": "execute_result"
    }
   ],
   "source": [
    "df.shape"
   ]
  },
  {
   "cell_type": "code",
   "execution_count": 5,
   "metadata": {},
   "outputs": [
    {
     "name": "stderr",
     "output_type": "stream",
     "text": [
      "/Users/sakshamsharma/.pyenv/versions/3.10.13/lib/python3.10/site-packages/numpy/_core/fromnumeric.py:57: FutureWarning: 'DataFrame.swapaxes' is deprecated and will be removed in a future version. Please use 'DataFrame.transpose' instead.\n",
      "  return bound(*args, **kwds)\n"
     ]
    }
   ],
   "source": [
    "list_of_dfs = np.array_split(df, 30)"
   ]
  },
  {
   "cell_type": "code",
   "execution_count": 10,
   "metadata": {},
   "outputs": [],
   "source": [
    "counter = 0\n",
    "curr_dir = Path(os.getcwd())\n",
    "target_dir = curr_dir.parent / \"Data\" / \"staged\" / \"Olympic_Athlete_Biography_Files\" \n",
    "for i in range(len(list_of_dfs)):\n",
    "    path = str(target_dir) +  '/Olympic_Athlete_Biography' + str(counter) + '.csv'\n",
    "    list_of_dfs[i].to_csv(path, index = False)\n",
    "    counter = counter + 1"
   ]
  },
  {
   "cell_type": "code",
   "execution_count": null,
   "metadata": {},
   "outputs": [],
   "source": []
  }
 ],
 "metadata": {
  "kernelspec": {
   "display_name": "3.10.13",
   "language": "python",
   "name": "python3"
  },
  "language_info": {
   "codemirror_mode": {
    "name": "ipython",
    "version": 3
   },
   "file_extension": ".py",
   "mimetype": "text/x-python",
   "name": "python",
   "nbconvert_exporter": "python",
   "pygments_lexer": "ipython3",
   "version": "3.10.13"
  }
 },
 "nbformat": 4,
 "nbformat_minor": 2
}
