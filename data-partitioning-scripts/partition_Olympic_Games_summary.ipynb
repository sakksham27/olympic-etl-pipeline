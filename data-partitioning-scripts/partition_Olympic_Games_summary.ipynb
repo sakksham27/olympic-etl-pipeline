{
 "cells": [
  {
   "cell_type": "code",
   "execution_count": 1,
   "metadata": {},
   "outputs": [],
   "source": [
    "import pandas as pd \n",
    "import numpy as np\n",
    "from pathlib import Path\n",
    "import os"
   ]
  },
  {
   "cell_type": "code",
   "execution_count": 2,
   "metadata": {},
   "outputs": [],
   "source": [
    "base_dir = Path(os.getcwd())\n",
    "file_path = base_dir.parent / \"Data\" / \"raw\" / \"Olympic_Games_Summary.csv\"\n",
    "df = pd.read_csv(file_path)"
   ]
  },
  {
   "cell_type": "code",
   "execution_count": 3,
   "metadata": {},
   "outputs": [
    {
     "data": {
      "text/html": [
       "<div>\n",
       "<style scoped>\n",
       "    .dataframe tbody tr th:only-of-type {\n",
       "        vertical-align: middle;\n",
       "    }\n",
       "\n",
       "    .dataframe tbody tr th {\n",
       "        vertical-align: top;\n",
       "    }\n",
       "\n",
       "    .dataframe thead th {\n",
       "        text-align: right;\n",
       "    }\n",
       "</style>\n",
       "<table border=\"1\" class=\"dataframe\">\n",
       "  <thead>\n",
       "    <tr style=\"text-align: right;\">\n",
       "      <th></th>\n",
       "      <th>edition</th>\n",
       "      <th>edition_id</th>\n",
       "      <th>edition_url</th>\n",
       "      <th>year</th>\n",
       "      <th>city</th>\n",
       "      <th>country_flag_url</th>\n",
       "      <th>country_noc</th>\n",
       "      <th>start_date</th>\n",
       "      <th>end_date</th>\n",
       "      <th>competition_date</th>\n",
       "      <th>isHeld</th>\n",
       "    </tr>\n",
       "  </thead>\n",
       "  <tbody>\n",
       "    <tr>\n",
       "      <th>59</th>\n",
       "      <td>2018 Winter Olympics</td>\n",
       "      <td>60</td>\n",
       "      <td>/editions/60</td>\n",
       "      <td>2018</td>\n",
       "      <td>PyeongChang</td>\n",
       "      <td>https://olympedia-flags.s3.eu-central-1.amazon...</td>\n",
       "      <td>KOR</td>\n",
       "      <td>9 February</td>\n",
       "      <td>25 February</td>\n",
       "      <td>8 – 25 February</td>\n",
       "      <td>NaN</td>\n",
       "    </tr>\n",
       "    <tr>\n",
       "      <th>60</th>\n",
       "      <td>2022 Winter Olympics</td>\n",
       "      <td>62</td>\n",
       "      <td>/editions/62</td>\n",
       "      <td>2022</td>\n",
       "      <td>Beijing</td>\n",
       "      <td>https://olympedia-flags.s3.eu-central-1.amazon...</td>\n",
       "      <td>CHN</td>\n",
       "      <td>4 February</td>\n",
       "      <td>20 February</td>\n",
       "      <td>2 – 20 February</td>\n",
       "      <td>NaN</td>\n",
       "    </tr>\n",
       "    <tr>\n",
       "      <th>61</th>\n",
       "      <td>2026 Winter Olympics</td>\n",
       "      <td>72</td>\n",
       "      <td>/editions/72</td>\n",
       "      <td>2026</td>\n",
       "      <td>Milano-Cortina d'Ampezzo</td>\n",
       "      <td>https://olympedia-flags.s3.eu-central-1.amazon...</td>\n",
       "      <td>ITA</td>\n",
       "      <td>6 February</td>\n",
       "      <td>22 February</td>\n",
       "      <td>4 – 22 February</td>\n",
       "      <td>NaN</td>\n",
       "    </tr>\n",
       "    <tr>\n",
       "      <th>62</th>\n",
       "      <td>1956 Equestrian</td>\n",
       "      <td>48</td>\n",
       "      <td>/editions/48</td>\n",
       "      <td>1956</td>\n",
       "      <td>Stockholm</td>\n",
       "      <td>https://olympedia-flags.s3.eu-central-1.amazon...</td>\n",
       "      <td>SWE</td>\n",
       "      <td>10 June</td>\n",
       "      <td>17 June</td>\n",
       "      <td>11 – 17 June</td>\n",
       "      <td>NaN</td>\n",
       "    </tr>\n",
       "    <tr>\n",
       "      <th>63</th>\n",
       "      <td>1906 Intercalated</td>\n",
       "      <td>4</td>\n",
       "      <td>/editions/4</td>\n",
       "      <td>1906</td>\n",
       "      <td>Athina</td>\n",
       "      <td>https://olympedia-flags.s3.eu-central-1.amazon...</td>\n",
       "      <td>GRE</td>\n",
       "      <td>22 April</td>\n",
       "      <td>2 May</td>\n",
       "      <td>22 April –  2 May</td>\n",
       "      <td>NaN</td>\n",
       "    </tr>\n",
       "  </tbody>\n",
       "</table>\n",
       "</div>"
      ],
      "text/plain": [
       "                 edition  edition_id   edition_url  year  \\\n",
       "59  2018 Winter Olympics          60  /editions/60  2018   \n",
       "60  2022 Winter Olympics          62  /editions/62  2022   \n",
       "61  2026 Winter Olympics          72  /editions/72  2026   \n",
       "62       1956 Equestrian          48  /editions/48  1956   \n",
       "63     1906 Intercalated           4   /editions/4  1906   \n",
       "\n",
       "                        city  \\\n",
       "59               PyeongChang   \n",
       "60                   Beijing   \n",
       "61  Milano-Cortina d'Ampezzo   \n",
       "62                 Stockholm   \n",
       "63                    Athina   \n",
       "\n",
       "                                     country_flag_url country_noc  \\\n",
       "59  https://olympedia-flags.s3.eu-central-1.amazon...         KOR   \n",
       "60  https://olympedia-flags.s3.eu-central-1.amazon...         CHN   \n",
       "61  https://olympedia-flags.s3.eu-central-1.amazon...         ITA   \n",
       "62  https://olympedia-flags.s3.eu-central-1.amazon...         SWE   \n",
       "63  https://olympedia-flags.s3.eu-central-1.amazon...         GRE   \n",
       "\n",
       "     start_date     end_date   competition_date isHeld  \n",
       "59   9 February  25 February    8 – 25 February    NaN  \n",
       "60   4 February  20 February    2 – 20 February    NaN  \n",
       "61   6 February  22 February    4 – 22 February    NaN  \n",
       "62      10 June      17 June       11 – 17 June    NaN  \n",
       "63     22 April        2 May  22 April –  2 May    NaN  "
      ]
     },
     "execution_count": 3,
     "metadata": {},
     "output_type": "execute_result"
    }
   ],
   "source": [
    "df.tail()"
   ]
  },
  {
   "cell_type": "code",
   "execution_count": 4,
   "metadata": {},
   "outputs": [],
   "source": [
    "df['edition_year'] = df['edition'].str[:4]"
   ]
  },
  {
   "cell_type": "code",
   "execution_count": 5,
   "metadata": {},
   "outputs": [],
   "source": [
    "df = df.sort_values(by=['edition_year'])"
   ]
  },
  {
   "cell_type": "code",
   "execution_count": 6,
   "metadata": {},
   "outputs": [],
   "source": [
    "counter = 0\n",
    "curr_dir = Path(os.getcwd())\n",
    "target_dir = curr_dir.parent / \"Data\" / \"staged\" / \"Olympic_Games_Summary_Files\"\n",
    "for year in df['edition_year'].unique():\n",
    "    path = str(target_dir) + '/Olympic_Games_Summary_Details' + str(counter) + '.csv'\n",
    "    temp_df = df[df['edition_year'] == year]\n",
    "    temp_df = temp_df.drop(columns = \"edition_year\")\n",
    "    temp_df.to_csv(path, index=False)\n",
    "    counter = counter + 1"
   ]
  },
  {
   "cell_type": "code",
   "execution_count": null,
   "metadata": {},
   "outputs": [],
   "source": []
  }
 ],
 "metadata": {
  "kernelspec": {
   "display_name": "3.10.13",
   "language": "python",
   "name": "python3"
  },
  "language_info": {
   "codemirror_mode": {
    "name": "ipython",
    "version": 3
   },
   "file_extension": ".py",
   "mimetype": "text/x-python",
   "name": "python",
   "nbconvert_exporter": "python",
   "pygments_lexer": "ipython3",
   "version": "3.10.13"
  }
 },
 "nbformat": 4,
 "nbformat_minor": 2
}
