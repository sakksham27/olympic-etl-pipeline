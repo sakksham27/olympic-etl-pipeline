{
 "cells": [
  {
   "cell_type": "code",
   "execution_count": 3,
   "metadata": {},
   "outputs": [],
   "source": [
    "import pandas as pd\n",
    "import os \n",
    "from pathlib import Path\n"
   ]
  },
  {
   "cell_type": "code",
   "execution_count": 4,
   "metadata": {},
   "outputs": [],
   "source": [
    "base_dir = Path(os.getcwd())\n",
    "file_path = base_dir.parent / \"Data\" / \"raw\" / \"Olympic_Athlete_Event_Details.csv\"\n",
    "df = pd.read_csv(file_path)"
   ]
  },
  {
   "cell_type": "code",
   "execution_count": 8,
   "metadata": {},
   "outputs": [
    {
     "data": {
      "text/html": [
       "<div>\n",
       "<style scoped>\n",
       "    .dataframe tbody tr th:only-of-type {\n",
       "        vertical-align: middle;\n",
       "    }\n",
       "\n",
       "    .dataframe tbody tr th {\n",
       "        vertical-align: top;\n",
       "    }\n",
       "\n",
       "    .dataframe thead th {\n",
       "        text-align: right;\n",
       "    }\n",
       "</style>\n",
       "<table border=\"1\" class=\"dataframe\">\n",
       "  <thead>\n",
       "    <tr style=\"text-align: right;\">\n",
       "      <th></th>\n",
       "      <th>edition</th>\n",
       "      <th>edition_id</th>\n",
       "      <th>country_noc</th>\n",
       "      <th>sport</th>\n",
       "      <th>event</th>\n",
       "      <th>result_id</th>\n",
       "      <th>athlete</th>\n",
       "      <th>athlete_id</th>\n",
       "      <th>pos</th>\n",
       "      <th>medal</th>\n",
       "      <th>isTeamSport</th>\n",
       "      <th>edition_year</th>\n",
       "    </tr>\n",
       "  </thead>\n",
       "  <tbody>\n",
       "    <tr>\n",
       "      <th>316831</th>\n",
       "      <td>2022 Winter Olympics</td>\n",
       "      <td>62</td>\n",
       "      <td>KOR</td>\n",
       "      <td>Bobsleigh</td>\n",
       "      <td>Monobob, Women</td>\n",
       "      <td>19019671</td>\n",
       "      <td>Kim Yu-Ran</td>\n",
       "      <td>137542</td>\n",
       "      <td>18</td>\n",
       "      <td>NaN</td>\n",
       "      <td>False</td>\n",
       "      <td>2022</td>\n",
       "    </tr>\n",
       "    <tr>\n",
       "      <th>316832</th>\n",
       "      <td>2022 Winter Olympics</td>\n",
       "      <td>62</td>\n",
       "      <td>JAM</td>\n",
       "      <td>Bobsleigh</td>\n",
       "      <td>Monobob, Women</td>\n",
       "      <td>19019671</td>\n",
       "      <td>Jazmine Fenlator-Victorian</td>\n",
       "      <td>128682</td>\n",
       "      <td>19</td>\n",
       "      <td>NaN</td>\n",
       "      <td>False</td>\n",
       "      <td>2022</td>\n",
       "    </tr>\n",
       "    <tr>\n",
       "      <th>316833</th>\n",
       "      <td>2022 Winter Olympics</td>\n",
       "      <td>62</td>\n",
       "      <td>UKR</td>\n",
       "      <td>Bobsleigh</td>\n",
       "      <td>Monobob, Women</td>\n",
       "      <td>19019671</td>\n",
       "      <td>Lidiya Hunko</td>\n",
       "      <td>149047</td>\n",
       "      <td>20</td>\n",
       "      <td>NaN</td>\n",
       "      <td>False</td>\n",
       "      <td>2022</td>\n",
       "    </tr>\n",
       "  </tbody>\n",
       "</table>\n",
       "</div>"
      ],
      "text/plain": [
       "                     edition  edition_id country_noc      sport  \\\n",
       "316831  2022 Winter Olympics          62         KOR  Bobsleigh   \n",
       "316832  2022 Winter Olympics          62         JAM  Bobsleigh   \n",
       "316833  2022 Winter Olympics          62         UKR  Bobsleigh   \n",
       "\n",
       "                 event  result_id                     athlete  athlete_id pos  \\\n",
       "316831  Monobob, Women   19019671                  Kim Yu-Ran      137542  18   \n",
       "316832  Monobob, Women   19019671  Jazmine Fenlator-Victorian      128682  19   \n",
       "316833  Monobob, Women   19019671                Lidiya Hunko      149047  20   \n",
       "\n",
       "       medal  isTeamSport edition_year  \n",
       "316831   NaN        False         2022  \n",
       "316832   NaN        False         2022  \n",
       "316833   NaN        False         2022  "
      ]
     },
     "execution_count": 8,
     "metadata": {},
     "output_type": "execute_result"
    }
   ],
   "source": [
    "df.tail(3)"
   ]
  },
  {
   "cell_type": "code",
   "execution_count": 9,
   "metadata": {},
   "outputs": [
    {
     "data": {
      "text/plain": [
       "(316834, 12)"
      ]
     },
     "execution_count": 9,
     "metadata": {},
     "output_type": "execute_result"
    }
   ],
   "source": [
    "df.shape"
   ]
  },
  {
   "cell_type": "code",
   "execution_count": 10,
   "metadata": {},
   "outputs": [],
   "source": [
    "# first of all from Olympic_Athlete_Event_Details file we need to extract edition year \n",
    "df['edition_year'] = df['edition'].str[:4]"
   ]
  },
  {
   "cell_type": "markdown",
   "metadata": {},
   "source": [
    "The edition_year column on which we will split has been created, now we can automate this process eventually "
   ]
  },
  {
   "cell_type": "code",
   "execution_count": 11,
   "metadata": {},
   "outputs": [],
   "source": [
    "df = df.sort_values(by=['edition_year'])"
   ]
  },
  {
   "cell_type": "code",
   "execution_count": 12,
   "metadata": {},
   "outputs": [],
   "source": [
    "counter = 0\n",
    "curr_dir = Path(os.getcwd())\n",
    "target_dir = curr_dir.parent / \"Data\" / \"staged\" / \"Olympic_Athlete_Event_Details_Files\" \n",
    "for year in df['edition_year'].unique():\n",
    "    path = str(target_dir) + '/Olympic_Athlete_Event_Details' + str(counter) + '.csv'\n",
    "    temp_df = df[df['edition_year'] == year]\n",
    "    temp_df = temp_df.drop(columns = \"edition_year\")\n",
    "    temp_df.to_csv(path, index=False)\n",
    "    counter = counter + 1\n",
    "    "
   ]
  },
  {
   "cell_type": "markdown",
   "metadata": {},
   "source": [
    "There are is a file for each year which is perfect"
   ]
  },
  {
   "cell_type": "code",
   "execution_count": null,
   "metadata": {},
   "outputs": [],
   "source": []
  }
 ],
 "metadata": {
  "kernelspec": {
   "display_name": "3.10.13",
   "language": "python",
   "name": "python3"
  },
  "language_info": {
   "codemirror_mode": {
    "name": "ipython",
    "version": 3
   },
   "file_extension": ".py",
   "mimetype": "text/x-python",
   "name": "python",
   "nbconvert_exporter": "python",
   "pygments_lexer": "ipython3",
   "version": "3.10.13"
  }
 },
 "nbformat": 4,
 "nbformat_minor": 2
}
