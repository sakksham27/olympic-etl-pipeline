{
 "cells": [
  {
   "cell_type": "code",
   "execution_count": 1,
   "id": "532c2075-1c70-44c3-960c-55d14fb2970d",
   "metadata": {},
   "outputs": [],
   "source": [
    "import pandas as pd \n",
    "import os\n",
    "from pathlib import Path"
   ]
  },
  {
   "cell_type": "code",
   "execution_count": 2,
   "id": "5aea9f6a-81b9-4b7b-b919-e6b09efca619",
   "metadata": {},
   "outputs": [
    {
     "data": {
      "text/plain": [
       "PosixPath('/Users/sakshamsharma/Desktop/main/Ram/DE3_project3/Data/raw')"
      ]
     },
     "execution_count": 2,
     "metadata": {},
     "output_type": "execute_result"
    }
   ],
   "source": [
    "base_dir = Path(os.getcwd()) / 'Data' / 'raw'\n",
    "base_dir "
   ]
  },
  {
   "cell_type": "code",
   "execution_count": 3,
   "id": "44c91e22-3db2-4ea5-9ade-52adbe0ac858",
   "metadata": {},
   "outputs": [
    {
     "data": {
      "text/plain": [
       "['Olympic_Country_Profiles.csv',\n",
       " 'Olympic_Athlete_Biography.csv',\n",
       " 'Olympic_Athlete_Event_Details.csv',\n",
       " 'Olympic_Event_Results.csv',\n",
       " 'Olympic_Medal_Tally_History.csv',\n",
       " 'Olympic_Games_Summary.csv']"
      ]
     },
     "execution_count": 3,
     "metadata": {},
     "output_type": "execute_result"
    }
   ],
   "source": [
    "files = os.listdir(base_dir)\n",
    "files"
   ]
  },
  {
   "cell_type": "code",
   "execution_count": 4,
   "id": "dd574327-1f55-4e55-8bb9-b80c2df05e2b",
   "metadata": {},
   "outputs": [
    {
     "data": {
      "text/plain": [
       "list"
      ]
     },
     "execution_count": 4,
     "metadata": {},
     "output_type": "execute_result"
    }
   ],
   "source": [
    "type(os.listdir(base_dir))"
   ]
  },
  {
   "cell_type": "code",
   "execution_count": 5,
   "id": "b4397270-8639-4bac-80db-a03e8bd1cb31",
   "metadata": {},
   "outputs": [],
   "source": [
    "writing_content = \"\"\n",
    "for file in files: \n",
    "    file_df = pd.read_csv(base_dir / file)\n",
    "    #print(f'File Name: {file}')\n",
    "    writing_content = writing_content + f'File Name: {file}' + '\\n'\n",
    "    #print(f'Columns & Dtypes: ')\n",
    "    writing_content = writing_content + f'Columns & Dtypes: '+ '\\n'\n",
    "    columns = list(file_df.columns)\n",
    "    dtypes = list(file_df.dtypes)\n",
    "    for i in range(len(columns)):\n",
    "        #print(f'  {i}. {columns[i]}: {dtypes[0]}')\n",
    "        writing_content = writing_content + f'  {i}. {columns[i]}: {dtypes[0]}' + '\\n'\n",
    "    numerical_columns = file_df.select_dtypes(include=['number']).columns.tolist()\n",
    "    #print(f'Numerical Columns: {numerical_columns}')\n",
    "    writing_content = writing_content + f'Numerical Columns: {numerical_columns}' + '\\n'\n",
    "    non_numerical_columns = file_df.select_dtypes(exclude=['number']).columns.tolist()\n",
    "    #print(f'Non-Numerical Columns: {non_numerical_columns}')\n",
    "    writing_content = writing_content + f'Non-Numerical Columns: {non_numerical_columns}' + '\\n'\n",
    "    #print('Size of largest element in each columns: ')\n",
    "    writing_content = writing_content + 'Size of largest element in each columns: ' + '\\n'\n",
    "    for i in range(len(columns)):\n",
    "        if(columns[i] in non_numerical_columns):\n",
    "            max_ele = file_df.loc[file_df[columns[i]].astype(str).str.len().idxmax(), columns[i]]\n",
    "            writing_content = writing_content + f'  {i}. {columns[i]}: {{element: {(str(max_ele) if len(str(max_ele)) < 20 else str(max_ele)[:20] + \"...\")}}} & {{length: {len(str(max_ele))}}}' + '\\n'\n",
    "            #print(f'  {i}. {columns[i]}: {{element: {(str(max_ele) if len(str(max_ele)) < 20 else str(max_ele)[:20] + \"...\")}}} & {{length: {len(str(max_ele))}}}')\n",
    "        else:\n",
    "            max_ele = file_df[columns[i]].max()\n",
    "            max_lenght_ele = file_df.loc[file_df[columns[i]].astype(str).str.len().idxmax(), columns[i]]\n",
    "            #print(f'  {i}. {columns[i]}: {{element: {str(max_ele)[:20]}}} & {{length: {len(str(max_lenght_ele))}}}')\n",
    "            writing_content = writing_content + f'  {i}. {columns[i]}: {{element: {str(max_ele)[:20]}}} & {{length: {len(str(max_lenght_ele))}}}' + '\\n'\n",
    "    writing_content = writing_content + '\\n'\n",
    "    #print(writing_content)            "
   ]
  },
  {
   "cell_type": "code",
   "execution_count": 6,
   "id": "3c781179-0eb8-43ee-84c3-09e724c03088",
   "metadata": {},
   "outputs": [
    {
     "name": "stdout",
     "output_type": "stream",
     "text": [
      "File Name: Olympic_Country_Profiles.csv\n",
      "Columns & Dtypes: \n",
      "  0. noc: object\n",
      "  1. country: object\n",
      "Numerical Columns: []\n",
      "Non-Numerical Columns: ['noc', 'country']\n",
      "Size of largest element in each columns: \n",
      "  0. noc: {element: AFG} & {length: 3}\n",
      "  1. country: {element: Democratic People's ...} & {length: 37}\n",
      "\n",
      "File Name: Olympic_Athlete_Biography.csv\n",
      "Columns & Dtypes: \n",
      "  0. athlete_id: int64\n",
      "  1. name: int64\n",
      "  2. sex: int64\n",
      "  3. born: int64\n",
      "  4. height: int64\n",
      "  5. weight: int64\n",
      "  6. country: int64\n",
      "  7. country_noc: int64\n",
      "  8. description: int64\n",
      "  9. special_notes: int64\n",
      "Numerical Columns: ['athlete_id', 'height']\n",
      "Non-Numerical Columns: ['name', 'sex', 'born', 'weight', 'country', 'country_noc', 'description', 'special_notes']\n",
      "Size of largest element in each columns: \n",
      "  0. athlete_id: {element: 22000000} & {length: 8}\n",
      "  1. name: {element: Georges, Marquis de ...} & {length: 49}\n",
      "  2. sex: {element: Female} & {length: 6}\n",
      "  3. born: {element: in ?, Chaharmahal-o-...} & {length: 62}\n",
      "  4. height: {element: 226.0} & {length: 5}\n",
      "  5. weight: {element: 124, 131} & {length: 8}\n",
      "  6. country: {element:  Independent Olympic...} & {length: 79}\n",
      "  7. country_noc: {element: BUL} & {length: 3}\n",
      "  8. description: {element: He was born “Wa-tho-...} & {length: 9539}\n",
      "  9. special_notes: {element: Mother of Victoria S...} & {length: 6169}\n",
      "\n",
      "File Name: Olympic_Athlete_Event_Details.csv\n",
      "Columns & Dtypes: \n",
      "  0. edition: object\n",
      "  1. edition_id: object\n",
      "  2. country_noc: object\n",
      "  3. sport: object\n",
      "  4. event: object\n",
      "  5. result_id: object\n",
      "  6. athlete: object\n",
      "  7. athlete_id: object\n",
      "  8. pos: object\n",
      "  9. medal: object\n",
      "  10. isTeamSport: object\n",
      "Numerical Columns: ['edition_id', 'result_id', 'athlete_id']\n",
      "Non-Numerical Columns: ['edition', 'country_noc', 'sport', 'event', 'athlete', 'pos', 'medal', 'isTeamSport']\n",
      "Size of largest element in each columns: \n",
      "  0. edition: {element: 1956 Equestrian Olym...} & {length: 24}\n",
      "  1. edition_id: {element: 62} & {length: 2}\n",
      "  2. country_noc: {element: ANZ} & {length: 3}\n",
      "  3. sport: {element: Short Track Speed Sk...} & {length: 25}\n",
      "  4. event: {element: 26th Federal Festiva...} & {length: 137}\n",
      "  5. result_id: {element: 90016770} & {length: 8}\n",
      "  6. athlete: {element: Georges, Marquis de ...} & {length: 49}\n",
      "  7. athlete_id: {element: 22000000} & {length: 8}\n",
      "  8. pos: {element: =5 p13 r1/4} & {length: 11}\n",
      "  9. medal: {element: Bronze} & {length: 6}\n",
      "  10. isTeamSport: {element: False} & {length: 5}\n",
      "\n",
      "File Name: Olympic_Event_Results.csv\n",
      "Columns & Dtypes: \n",
      "  0. result_id: int64\n",
      "  1. event_title: int64\n",
      "  2. edition: int64\n",
      "  3. edition_id: int64\n",
      "  4. sport: int64\n",
      "  5. sport_url: int64\n",
      "  6. result_date: int64\n",
      "  7. result_location: int64\n",
      "  8. result_participants: int64\n",
      "  9. result_format: int64\n",
      "  10. result_detail: int64\n",
      "  11. result_description: int64\n",
      "Numerical Columns: ['result_id', 'edition_id']\n",
      "Non-Numerical Columns: ['event_title', 'edition', 'sport', 'sport_url', 'result_date', 'result_location', 'result_participants', 'result_format', 'result_detail', 'result_description']\n",
      "Size of largest element in each columns: \n",
      "  0. result_id: {element: 90016770} & {length: 8}\n",
      "  1. event_title: {element: 26th Federal Festiva...} & {length: 137}\n",
      "  2. edition: {element: 1906  Intercalated G...} & {length: 24}\n",
      "  3. edition_id: {element: 62} & {length: 2}\n",
      "  4. sport: {element: Short Track Speed Sk...} & {length: 25}\n",
      "  5. sport_url: {element: /editions/26/sports/...} & {length: 23}\n",
      "  6. result_date: {element: 18 – 19 July 1976 — ...} & {length: 82}\n",
      "  7. result_location: {element: Empire Stadium, Wemb...} & {length: 382}\n",
      "  8. result_participants: {element: 129 from 28 countrie...} & {length: 21}\n",
      "  9. result_format: {element: Couples were ranked ...} & {length: 1181}\n",
      "  10. result_detail: {element: Course Name: Secret ...} & {length: 383}\n",
      "  11. result_description: {element: The modern pentathlo...} & {length: 14594}\n",
      "\n",
      "File Name: Olympic_Medal_Tally_History.csv\n",
      "Columns & Dtypes: \n",
      "  0. edition: object\n",
      "  1. edition_id: object\n",
      "  2. year: object\n",
      "  3. country: object\n",
      "  4. country_noc: object\n",
      "  5. gold: object\n",
      "  6. silver: object\n",
      "  7. bronze: object\n",
      "  8. total: object\n",
      "Numerical Columns: ['edition_id', 'year', 'gold', 'silver', 'bronze', 'total']\n",
      "Non-Numerical Columns: ['edition', 'country', 'country_noc']\n",
      "Size of largest element in each columns: \n",
      "  0. edition: {element: 1896 Summer Olympics...} & {length: 20}\n",
      "  1. edition_id: {element: 62} & {length: 2}\n",
      "  2. year: {element: 2022} & {length: 4}\n",
      "  3. country: {element: Democratic People's ...} & {length: 37}\n",
      "  4. country_noc: {element: USA} & {length: 3}\n",
      "  5. gold: {element: 83} & {length: 2}\n",
      "  6. silver: {element: 85} & {length: 2}\n",
      "  7. bronze: {element: 83} & {length: 2}\n",
      "  8. total: {element: 248} & {length: 3}\n",
      "\n",
      "File Name: Olympic_Games_Summary.csv\n",
      "Columns & Dtypes: \n",
      "  0. edition: object\n",
      "  1. edition_id: object\n",
      "  2. edition_url: object\n",
      "  3. year: object\n",
      "  4. city: object\n",
      "  5. country_flag_url: object\n",
      "  6. country_noc: object\n",
      "  7. start_date: object\n",
      "  8. end_date: object\n",
      "  9. competition_date: object\n",
      "  10. isHeld: object\n",
      "Numerical Columns: ['edition_id', 'year']\n",
      "Non-Numerical Columns: ['edition', 'edition_url', 'city', 'country_flag_url', 'country_noc', 'start_date', 'end_date', 'competition_date', 'isHeld']\n",
      "Size of largest element in each columns: \n",
      "  0. edition: {element: 1896 Summer Olympics...} & {length: 20}\n",
      "  1. edition_id: {element: 372} & {length: 3}\n",
      "  2. edition_url: {element: /editions/372} & {length: 13}\n",
      "  3. year: {element: 2032} & {length: 4}\n",
      "  4. city: {element: Milano-Cortina d'Amp...} & {length: 24}\n",
      "  5. country_flag_url: {element: https://olympedia-fl...} & {length: 61}\n",
      "  6. country_noc: {element: GRE} & {length: 3}\n",
      "  7. start_date: {element: 17 September} & {length: 12}\n",
      "  8. end_date: {element:  8 August 2021} & {length: 14}\n",
      "  9. competition_date: {element: 22 November –  8 Dec...} & {length: 25}\n",
      "  10. isHeld: {element: Not held due to war} & {length: 19}\n",
      "\n",
      "\n"
     ]
    }
   ],
   "source": [
    "print(writing_content)"
   ]
  },
  {
   "cell_type": "code",
   "execution_count": 7,
   "id": "e30ab08f-5739-442b-a162-4fe93e9a313f",
   "metadata": {},
   "outputs": [],
   "source": [
    "with open('Key_Learning.txt', 'a') as file_to_write_to: \n",
    "    file_to_write_to.write(writing_content)"
   ]
  },
  {
   "cell_type": "code",
   "execution_count": null,
   "id": "1422469b-2ed8-48c4-a170-9e5ddc4a7fb2",
   "metadata": {},
   "outputs": [],
   "source": []
  }
 ],
 "metadata": {
  "kernelspec": {
   "display_name": "Python 3 (ipykernel)",
   "language": "python",
   "name": "python3"
  },
  "language_info": {
   "codemirror_mode": {
    "name": "ipython",
    "version": 3
   },
   "file_extension": ".py",
   "mimetype": "text/x-python",
   "name": "python",
   "nbconvert_exporter": "python",
   "pygments_lexer": "ipython3",
   "version": "3.11.5"
  }
 },
 "nbformat": 4,
 "nbformat_minor": 5
}
